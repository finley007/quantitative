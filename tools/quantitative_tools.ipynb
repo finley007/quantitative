{
 "cells": [
  {
   "cell_type": "code",
   "execution_count": 4,
   "id": "225e345c",
   "metadata": {},
   "outputs": [
    {
     "data": {
      "application/vnd.jupyter.widget-view+json": {
       "model_id": "b140b40042864b8bbf6de1934e918d31",
       "version_major": 2,
       "version_minor": 0
      },
      "text/plain": [
       "Text(value='')"
      ]
     },
     "metadata": {},
     "output_type": "display_data"
    },
    {
     "name": "stdout",
     "output_type": "stream",
     "text": [
      "{'20170612_20171208': ['600000', '600016', '600019', '600028', '600029', '600030', '600036', '600048', '600050', '600104', '600111', '600309', '600340', '600518', '600519', '600547', '600606', '600837', '600887', '600919', '600958', '600999', '601006', '601088', '601166', '601169', '601186', '601211', '601229', '601288', '601318', '601328', '601336', '601390', '601398', '601601', '601628', '601668', '601669', '601688', '601766', '601800', '601818', '601857', '601878', '601881', '601985', '601988', '601989', '603993'], '20171211_20180608': ['600000', '600016', '600019', '600028', '600029', '600030', '600036', '600048', '600050', '600104', '600111', '600276', '600309', '600340', '600519', '600547', '600585', '600606', '600690', '600703', '600887', '600958', '600999', '601006', '601088', '601166', '601169', '601186', '601211', '601229', '601288', '601318', '601328', '601336', '601360', '601390', '601398', '601601', '601628', '601668', '601688', '601766', '601800', '601818', '601857', '601878', '601881', '601988', '601989', '603993'], '20180611_20181214': ['600000', '600016', '600019', '600028', '600029', '600030', '600036', '600048', '600050', '600104', '600196', '600276', '600309', '600340', '600519', '600547', '600585', '600606', '600690', '600703', '600887', '601006', '601088', '601138', '601166', '601169', '601186', '601211', '601229', '601288', '601318', '601328', '601336', '601360', '601390', '601398', '601601', '601628', '601668', '601688', '601766', '601800', '601818', '601857', '601888', '601939', '601988', '601989', '603259', '603993'], '20181217_20190614': ['600000', '600016', '600019', '600028', '600029', '600030', '600031', '600036', '600048', '600050', '600104', '600196', '600276', '600309', '600340', '600519', '600585', '600690', '600703', '600837', '600887', '601066', '601088', '601111', '601138', '601166', '601186', '601211', '601229', '601288', '601318', '601319', '601328', '601336', '601390', '601398', '601601', '601628', '601668', '601688', '601766', '601800', '601818', '601857', '601888', '601939', '601988', '601989', '603259', '603993'], '20190617_20191213': ['600000', '600009', '600016', '600028', '600030', '600031', '600036', '600048', '600050', '600104', '600196', '600276', '600309', '600340', '600519', '600547', '600585', '600690', '600703', '600837', '600887', '601012', '601066', '601088', '601111', '601138', '601166', '601186', '601211', '601236', '601288', '601318', '601319', '601328', '601336', '601390', '601398', '601601', '601628', '601668', '601688', '601766', '601818', '601857', '601888', '601939', '601988', '601989', '603259', '603993'], '20191216_20200612': ['600000', '600009', '600016', '600028', '600030', '600031', '600036', '600048', '600050', '600104', '600196', '600276', '600309', '600519', '600547', '600585', '600588', '600690', '600703', '600745', '600837', '600887', '601012', '601066', '601088', '601138', '601166', '601186', '601211', '601236', '601288', '601318', '601319', '601328', '601336', '601398', '601601', '601628', '601658', '601668', '601688', '601816', '601818', '601857', '601888', '601988', '601989', '603160', '603259', '603993'], '20200615_20201211': ['600000', '600009', '600016', '600028', '600030', '600031', '600036', '600048', '600050', '600104', '600196', '600276', '600309', '600519', '600547', '600570', '600585', '600588', '600690', '600703', '600745', '600837', '600887', '600918', '601012', '601066', '601088', '601138', '601166', '601186', '601211', '601236', '601288', '601318', '601319', '601336', '601398', '601601', '601628', '601668', '601688', '601816', '601818', '601857', '601888', '603160', '603259', '603288', '603501', '603986'], '20201214_20210611': ['600000', '600009', '600016', '600028', '600030', '600031', '600036', '600048', '600050', '600104', '600196', '600276', '600309', '600438', '600519', '600547', '600570', '600585', '600588', '600690', '600703', '600745', '600809', '600837', '600887', '600893', '600918', '601012', '601066', '601088', '601138', '601166', '601211', '601288', '601318', '601336', '601398', '601601', '601628', '601668', '601688', '601818', '601857', '601888', '601899', '601995', '603259', '603288', '603501', '603986'], '20210615_20211210': ['600000', '600028', '600030', '600031', '600036', '600048', '600050', '600104', '600196', '600276', '600309', '600436', '600438', '600519', '600547', '600570', '600585', '600588', '600690', '600745', '600809', '600837', '600887', '600893', '600900', '601012', '601066', '601088', '601138', '601166', '601211', '601288', '601318', '601336', '601398', '601601', '601628', '601633', '601668', '601688', '601728', '601857', '601888', '601899', '601919', '601995', '603259', '603288', '603501', '603986'], '20211213_20220610': ['600010', '600028', '600030', '600031', '600036', '600048', '600104', '600111', '600196', '600276', '600309', '600346', '600436', '600438', '600519', '600570', '600585', '600588', '600690', '600745', '600809', '600837', '600887', '600893', '600900', '600905', '601012', '601066', '601088', '601166', '601211', '601288', '601318', '601398', '601601', '601628', '601633', '601668', '601688', '601728', '601857', '601888', '601899', '601919', '601995', '603259', '603288', '603501', '603799', '603986']}\n"
     ]
    },
    {
     "ename": "UnpicklingError",
     "evalue": "invalid load key, '\\x1f'.",
     "output_type": "error",
     "traceback": [
      "\u001b[0;31m---------------------------------------------------------------------------\u001b[0m",
      "\u001b[0;31mUnpicklingError\u001b[0m                           Traceback (most recent call last)",
      "Input \u001b[0;32mIn [4]\u001b[0m, in \u001b[0;36mread\u001b[0;34m(sender)\u001b[0m\n\u001b[1;32m     14\u001b[0m \u001b[38;5;28;01mdef\u001b[39;00m \u001b[38;5;21mread\u001b[39m(sender):\n\u001b[0;32m---> 15\u001b[0m     \u001b[38;5;28mprint\u001b[39m(dict_slice(\u001b[43mpd\u001b[49m\u001b[38;5;241;43m.\u001b[39;49m\u001b[43mread_pickle\u001b[49m\u001b[43m(\u001b[49m\u001b[43msender\u001b[49m\u001b[38;5;241;43m.\u001b[39;49m\u001b[43mvalue\u001b[49m\u001b[43m)\u001b[49m,\u001b[38;5;241m1\u001b[39m,\u001b[38;5;241m200\u001b[39m))\n",
      "File \u001b[0;32m~/opt/anaconda3/lib/python3.9/site-packages/pandas/io/pickle.py:205\u001b[0m, in \u001b[0;36mread_pickle\u001b[0;34m(filepath_or_buffer, compression, storage_options)\u001b[0m\n\u001b[1;32m    202\u001b[0m     \u001b[38;5;28;01mwith\u001b[39;00m warnings\u001b[38;5;241m.\u001b[39mcatch_warnings(record\u001b[38;5;241m=\u001b[39m\u001b[38;5;28;01mTrue\u001b[39;00m):\n\u001b[1;32m    203\u001b[0m         \u001b[38;5;66;03m# We want to silence any warnings about, e.g. moved modules.\u001b[39;00m\n\u001b[1;32m    204\u001b[0m         warnings\u001b[38;5;241m.\u001b[39msimplefilter(\u001b[38;5;124m\"\u001b[39m\u001b[38;5;124mignore\u001b[39m\u001b[38;5;124m\"\u001b[39m, \u001b[38;5;167;01mWarning\u001b[39;00m)\n\u001b[0;32m--> 205\u001b[0m         \u001b[38;5;28;01mreturn\u001b[39;00m \u001b[43mpickle\u001b[49m\u001b[38;5;241;43m.\u001b[39;49m\u001b[43mload\u001b[49m\u001b[43m(\u001b[49m\u001b[43mhandles\u001b[49m\u001b[38;5;241;43m.\u001b[39;49m\u001b[43mhandle\u001b[49m\u001b[43m)\u001b[49m\n\u001b[1;32m    206\u001b[0m \u001b[38;5;28;01mexcept\u001b[39;00m excs_to_catch:\n\u001b[1;32m    207\u001b[0m     \u001b[38;5;66;03m# e.g.\u001b[39;00m\n\u001b[1;32m    208\u001b[0m     \u001b[38;5;66;03m#  \"No module named 'pandas.core.sparse.series'\"\u001b[39;00m\n\u001b[1;32m    209\u001b[0m     \u001b[38;5;66;03m#  \"Can't get attribute '__nat_unpickle' on <module 'pandas._libs.tslib\"\u001b[39;00m\n\u001b[1;32m    210\u001b[0m     \u001b[38;5;28;01mreturn\u001b[39;00m pc\u001b[38;5;241m.\u001b[39mload(handles\u001b[38;5;241m.\u001b[39mhandle, encoding\u001b[38;5;241m=\u001b[39m\u001b[38;5;28;01mNone\u001b[39;00m)\n",
      "\u001b[0;31mUnpicklingError\u001b[0m: invalid load key, '\\x1f'."
     ]
    }
   ],
   "source": [
    "#查看数据内容\n",
    "\n",
    "import ipywidgets as widgets\n",
    "from IPython.display import display\n",
    "import pandas as pd\n",
    "import gzip\n",
    "import _pickle as cPickle\n",
    "text = widgets.Text()\n",
    "display(text)\n",
    "\n",
    "def read_decompress(sender):\n",
    "    with gzip.open(sender.value, 'rb', compresslevel=1) as file_object:\n",
    "        raw_data = file_object.read()\n",
    "    print(cPickle.loads(raw_data))\n",
    "    \n",
    "def read(sender):\n",
    "    print(dict_slice(pd.read_pickle(sender.value),1,200))\n",
    "    \n",
    "def dict_slice(adict, start, end):\n",
    "    keys = adict.keys()\n",
    "    dict_slice = {}\n",
    "    for k in list(keys)[start:end]:\n",
    "        dict_slice[k] = adict[k]\n",
    "    return dict_slice\n",
    "\n",
    "text.on_submit(read)"
   ]
  },
  {
   "cell_type": "code",
   "execution_count": 11,
   "id": "34c21875",
   "metadata": {},
   "outputs": [
    {
     "name": "stdout",
     "output_type": "stream",
     "text": [
      "MD5 \t:\t 13ee9e8b41f69f9430098ee5406c29ab\n",
      "SHA1 \t:\t 41e44b2d46db7c551e74edc46c46b8305494e907\n",
      "SHA224 \t:\t 4601270ed8464726b5c0982d33aa77ab484f3c911cb0ae364dec6ff0\n",
      "SHA256 \t:\t a822da9e0c714b50db8e60e3a40390ab4a71ba58de428a53f02115b139b80ada\n",
      "SHA384 \t:\t 6ca994ab9d36c902068e04b546cd257215ec596161ba086c3db45329982192448dd78f7bb5f883fdaba529811fe0fa34\n",
      "SHA512 \t:\t 85467afeabbe8d777da4283d873afe607f1f984bce862eeefd2c10adc0974b73ce78f3679d82a02858f11008830edd2b4bc8a5de765da47ff1e84afa0dbd78f4\n"
     ]
    }
   ],
   "source": [
    "#测试数字签名\n",
    "\n",
    "import hashlib\n",
    "src = 'raw_input(\"Input String : \")'\n",
    "funcNameList = [\"MD5\",\"SHA1\",\"SHA224\",\"SHA256\",\"SHA384\",\"SHA512\"]\n",
    "funcMap = {\n",
    "\"MD5\" : lambda cnt : hashlib.md5(cnt.encode('utf-8')).hexdigest(),\n",
    "\"SHA1\" : lambda cnt : hashlib.sha1(cnt.encode('utf-8')).hexdigest(),\n",
    "\"SHA224\" : lambda cnt : hashlib.sha224(cnt.encode('utf-8')).hexdigest(),\n",
    "\"SHA256\" : lambda cnt : hashlib.sha256(cnt.encode('utf-8')).hexdigest(),\n",
    "\"SHA384\" : lambda cnt : hashlib.sha384(cnt.encode('utf-8')).hexdigest(),\n",
    "\"SHA512\" : lambda cnt : hashlib.sha512(cnt.encode('utf-8')).hexdigest()\n",
    "}\n",
    "for funcName in funcNameList :\n",
    "    print(funcName,\"\\t:\\t\",funcMap[funcName](src))"
   ]
  },
  {
   "cell_type": "code",
   "execution_count": 12,
   "id": "0ce73fe2",
   "metadata": {},
   "outputs": [
    {
     "name": "stdout",
     "output_type": "stream",
     "text": [
      "       日期Date  指数代码 Index Code 指数名称 Index Name 指数英文名称Index Name(Eng)  \\\n",
      "0    20221018              905           中证500               CSI 500   \n",
      "1    20221018              905           中证500               CSI 500   \n",
      "2    20221018              905           中证500               CSI 500   \n",
      "3    20221018              905           中证500               CSI 500   \n",
      "4    20221018              905           中证500               CSI 500   \n",
      "..        ...              ...             ...                   ...   \n",
      "495  20221018              905           中证500               CSI 500   \n",
      "496  20221018              905           中证500               CSI 500   \n",
      "497  20221018              905           中证500               CSI 500   \n",
      "498  20221018              905           中证500               CSI 500   \n",
      "499  20221018              905           中证500               CSI 500   \n",
      "\n",
      "     成分券代码Constituent Code 成分券名称Constituent Name  \\\n",
      "0                   600038                  中直股份   \n",
      "1                   603868                  飞科电器   \n",
      "2                   601611                  中国核建   \n",
      "3                   603515                  欧普照明   \n",
      "4                   603658                  安图生物   \n",
      "..                     ...                   ...   \n",
      "495                 300017                  网宿科技   \n",
      "496                   2500                  山西证券   \n",
      "497                 600131                  国网信通   \n",
      "498                 600166                  福田汽车   \n",
      "499                 600153                  建发股份   \n",
      "\n",
      "                      成分券英文名称Constituent Name(Eng) 交易所Exchange  \\\n",
      "0                         AVIC Helicopter Co.,Ltd.     上海证券交易所   \n",
      "1    Shanghai Flyco Electrical Appliance Co., Ltd.     上海证券交易所   \n",
      "2    China Nuclear Engineering Corporation Limited     上海证券交易所   \n",
      "3                         Opple Lighting Co., LTD.     上海证券交易所   \n",
      "4                    Autobio Diagnostics Co., Ltd.     上海证券交易所   \n",
      "..                                             ...         ...   \n",
      "495         Wangsu Science and Technology Co.,Ltd.     深圳证券交易所   \n",
      "496                       Shanxi Securities Co Ltd     深圳证券交易所   \n",
      "497  State Grid Information&Communication Co.,Ltd.     上海证券交易所   \n",
      "498                       Beiqi Foton Motor Co Ltd     上海证券交易所   \n",
      "499                                 Xiamen C&D Inc     上海证券交易所   \n",
      "\n",
      "    交易所英文名称Exchange(Eng)  \n",
      "0     Shanghai  Exchange  \n",
      "1     Shanghai  Exchange  \n",
      "2     Shanghai  Exchange  \n",
      "3     Shanghai  Exchange  \n",
      "4     Shanghai  Exchange  \n",
      "..                   ...  \n",
      "495   Shenzhen  Exchange  \n",
      "496   Shenzhen  Exchange  \n",
      "497   Shanghai  Exchange  \n",
      "498   Shanghai  Exchange  \n",
      "499   Shanghai  Exchange  \n",
      "\n",
      "[500 rows x 9 columns]\n",
      "<class 'str'>\n",
      "['002236', '601111', '002064', '000876', '601088', '601628', '300751', '300763', '600989', '300782', '601698', '601236', '300760', '601988', '000786', '600745', '002008', '002007', '002049', '601898', '601919', '300122', '688005', '003816', '688036', '688363', '688111', '601916', '601658', '601816', '688169', '300124', '600183', '600009', '688396', '600918', '688599', '603087', '688981', '688561', '300866', '300896', '300999', '601600', '600196', '600426', '601899', '002493', '300003', '601998', '300919', '300979', '601825', '601868', '600941', '601166', '600999', '600845', '002352', '601857', '601939', '002129', '002311', '000938', '600436', '600029', '601336', '300207', '002555', '002594', '002602', '601901', '002607', '002601', '000596', '300316', '601633', '601669', '000408', '000001', '000002', '000066', '000301', '000538', '000568', '601012', '601238', '601800', '300347', '603993', '000333', '603806', '300014', '600150', '601066', '600161', '600010', '603899', '603799', '600958', '601985', '600690', '601390', '600837', '600132', '600115', '600104', '600031', '600352', '300529', '603986', '603160', '601229', '002202', '300059', '600406', '600061', '600309', '600655', '300595', '002841', '601881', '300601', '300628', '603659', '600036', '000776', '600089', '600460', '002916', '601838', '601360', '603259', '300454', '600085', '000651', '000661', '000858', '002050', '600048', '002271', '002475', '601766', '601668', '002304', '601688', '000100', '601319', '603185', '300759', '601865', '688008', '601808', '601288', '002001', '601117', '600438', '688012', '603290', '603195', '600018', '600763', '600383', '600588', '600019', '600016', '600011', '002459', '002460', '000338', '688126', '603392', '688065', '600276', '600000', '002466', '601888', '002410', '601877', '601995', '300957', '605499', '600905', '601728', '001289', '002230', '601601', '002414', '002179', '601788', '002142', '601009', '002074', '600606', '600660', '600741', '600886', '002252', '601989', '300033', '601186', '601318', '601006', '002415', '601377', '000800', '002371', '002241', '601328', '601169', '000877', '000895', '600547', '600015', '600584', '600489', '601799', '000963', '600570', '000425', '300223', '002600', '601216', '002568', '601100', '300274', '000063', '000069', '000157', '000625', '000725', '002648', '002709', '002714', '601225', '603288', '603369', '603019', '300015', '600188', '600900', '600332', '600176', '600600', '300408', '002736', '300413', '601021', '000166', '300433', '300450', '601211', '300498', '600028', '600346', '002120', '601618', '600219', '601155', '300496', '001979', '002791', '601966', '600919', '002812', '600926', '002821', '000977', '601818', '600760', '600795', '600111', '600809', '603833', '603501', '300661', '601878', '603882', '603260', '600030', '600362', '600585', '000768', '000792', '600519', '600887', '600893', '600025', '002920', '603486', '601138', '300750', '002938', '600050', '300142', '000703', '000708', '002027', '002032', '601398']\n"
     ]
    }
   ],
   "source": [
    "import pandas as pd\n",
    "\n",
    "data = pd.read_excel('/Users/finley/Projects/stock-index-future/data/config/000905cons.xls', sheet_name='000905cons.xls')\n",
    "print(data)\n",
    "file = open('/Users/finley/Projects/stock-index-future/data/config/hs300')\n",
    "data = file.read()\n",
    "print(type(data))\n",
    "print(data.split('\\n'))\n",
    "\n"
   ]
  },
  {
   "cell_type": "code",
   "execution_count": 13,
   "id": "6187298f",
   "metadata": {},
   "outputs": [
    {
     "name": "stdout",
     "output_type": "stream",
     "text": [
      "           代码  交易所代码         自然日            时间   成交价    成交量     成交额  成交笔数  \\\n",
      "0   000001.SZ      1  2017-01-03  08:40:57.000  0.00      0       0     0   \n",
      "1   000001.SZ      1  2017-01-03  08:40:57.000  0.00      0       0     0   \n",
      "2   000001.SZ      1  2017-01-03  09:15:00.000  0.00      0       0     0   \n",
      "3   000001.SZ      1  2017-01-03  09:15:09.000  0.00      0       0     0   \n",
      "4   000001.SZ      1  2017-01-03  09:15:18.000  0.00      0       0     0   \n",
      "..        ...    ...         ...           ...   ...    ...     ...   ...   \n",
      "95  000001.SZ      1  2017-01-03  09:32:30.000  9.10  12900  117390   364   \n",
      "96  000001.SZ      1  2017-01-03  09:32:33.000  9.10      0       0   364   \n",
      "97  000001.SZ      1  2017-01-03  09:32:36.000  9.10    800    7280   366   \n",
      "98  000001.SZ      1  2017-01-03  09:32:39.000  9.11   3100   28225   369   \n",
      "99  000001.SZ      1  2017-01-03  09:32:42.000  9.10  11100  101010   372   \n",
      "\n",
      "    IOPV  成交标志  ...   申买量10  加权平均叫卖价  加权平均叫买价     叫卖总量     叫买总量  不加权指数  品种总数  \\\n",
      "0      0   NaN  ...       0     0.00     0.00        0        0      0     0   \n",
      "1      0   NaN  ...       0     0.00     0.00        0        0      0     0   \n",
      "2      0   NaN  ...       0     0.00     0.00        0        0      0     0   \n",
      "3      0   NaN  ...       0     0.00     0.00        0        0      0     0   \n",
      "4      0   NaN  ...       0     0.00     0.00        0        0      0     0   \n",
      "..   ...   ...  ...     ...      ...      ...      ...      ...    ...   ...   \n",
      "95     0   NaN  ...  301800     9.36     8.96  9088912  2873680      0     0   \n",
      "96     0   NaN  ...  301800     9.36     8.95  9090212  2827780      0     0   \n",
      "97     0   NaN  ...  301800     9.36     8.95  9201112  2829080      0     0   \n",
      "98     0   NaN  ...  301800     9.36     8.95  9204312  2828980      0     0   \n",
      "99     0   NaN  ...  301800     9.36     8.95  9229312  2847780      0     0   \n",
      "\n",
      "    上涨品种数  下跌品种数  持平品种数  \n",
      "0       0      0      0  \n",
      "1       0      0      0  \n",
      "2       0      0      0  \n",
      "3       0      0      0  \n",
      "4       0      0      0  \n",
      "..    ...    ...    ...  \n",
      "95      0      0      0  \n",
      "96      0      0      0  \n",
      "97      0      0      0  \n",
      "98      0      0      0  \n",
      "99      0      0      0  \n",
      "\n",
      "[100 rows x 66 columns]\n"
     ]
    }
   ],
   "source": [
    "import gzip\n",
    "\n",
    "import _pickle as cPickle\n",
    "import pandas as pd\n",
    "\n",
    "path = '/Users/finley/Projects/stock-index-future/data/000001.pkl'\n",
    "with gzip.open(path, 'rb', compresslevel=1) as file_object:\n",
    "    raw_data = file_object.read()\n",
    "data = cPickle.loads(raw_data)\n",
    "\n",
    "print(data[:100])"
   ]
  },
  {
   "cell_type": "code",
   "execution_count": 14,
   "id": "12481f59",
   "metadata": {},
   "outputs": [
    {
     "name": "stdout",
     "output_type": "stream",
     "text": [
      "<class 'numpy.ndarray'>\n",
      "[(2.01701031e+13, 6242. , 6245. , 6231. , 6., 1.,   30., 19439.)\n",
      " (2.01701031e+13, 6240. , 6240.4, 6230. , 2., 3.,   38., 19431.)\n",
      " (2.01701031e+13, 6230. , 6238. , 6230. , 1., 2.,   41., 19430.) ...\n",
      " (2.01701191e+13, 6045.4, 6046. , 6043.8, 1., 1., 6050.,  4966.)\n",
      " (2.01701191e+13, 6046. , 6047. , 6043.8, 1., 1., 6051.,  4965.)\n",
      " (2.01701191e+13, 6047. , 6047.2, 6043.4, 1., 1., 6053.,  4965.)]\n"
     ]
    }
   ],
   "source": [
    "import pandas as pd\n",
    "\n",
    "path = '/Users/finley/Projects/stock-index-future/data/IC1701.CCFX-ticks.pkl'\n",
    "data = pd.read_pickle(path)\n",
    "print(type(data))\n",
    "print(data)\n",
    "#'time', 'current', 'a1_p', 'b1_p', 'a1_v', 'b1_v', 'volume', 'position\n"
   ]
  },
  {
   "cell_type": "code",
   "execution_count": 18,
   "id": "265cbbaa",
   "metadata": {},
   "outputs": [
    {
     "name": "stdout",
     "output_type": "stream",
     "text": [
      "           time  current    a1_p    b1_p  a1_v  b1_v  volume  position  \\\n",
      "1  2.017010e+13   6240.0  6240.4  6230.0   2.0   3.0    38.0   19431.0   \n",
      "\n",
      "                        datetime  \n",
      "1  2017-01-03 09:30:00.400000000  \n",
      "           time  current    a1_p    b1_p  a1_v  b1_v  volume  position  \\\n",
      "0  2.017010e+13   6242.0  6245.0  6231.0   6.0   1.0    30.0   19439.0   \n",
      "\n",
      "                        datetime  \n",
      "0  2017-01-03 09:29:00.400000000  \n",
      "           time  current    a1_p    b1_p  a1_v  b1_v  volume  position  \\\n",
      "2  2.017010e+13   6230.0  6238.0  6230.0   1.0   2.0    41.0   19430.0   \n",
      "\n",
      "                        datetime  \n",
      "2  2017-01-03 09:30:01.400000000  \n",
      "                             datetime  CFFEX.IC1701.last_price  \\\n",
      "271608  2017-01-03 09:30:00.400000000                   6242.0   \n",
      "\n",
      "        CFFEX.IC1701.highest  CFFEX.IC1701.lowest  CFFEX.IC1701.bid_price1  \\\n",
      "271608                6242.0               6242.0                   6232.2   \n",
      "\n",
      "        CFFEX.IC1701.bid_volume1  CFFEX.IC1701.ask_price1  \\\n",
      "271608                         1                   6243.6   \n",
      "\n",
      "        CFFEX.IC1701.ask_volume1  CFFEX.IC1701.volume  CFFEX.IC1701.amount  \\\n",
      "271608                         1                   30           37452000.0   \n",
      "\n",
      "        CFFEX.IC1701.open_interest  \n",
      "271608                       19439  \n"
     ]
    }
   ],
   "source": [
    "import pandas as pd\n",
    "\n",
    "def date_format(date):\n",
    "    return date[0:4] + '-' + date[4:6] + '-' + date[6:8] + ' ' \\\n",
    "           + date[8:10] + ':' + date[10:12] + ':' + date[12:15] + str(int(date[15]) + 4) + '00000000'\n",
    "    \n",
    "target_data = pd.read_csv('/Users/finley/Projects/stock-index-future/data/original/future/tick/CFFEX.IC1701.csv')\n",
    "compare_data = pd.DataFrame(pd.read_pickle('/Users/finley/Projects/stock-index-future/data/original/future/tick/IC1701.CCFX-ticks.pkl'))\n",
    "compare_data['datetime'] = compare_data.apply(lambda item: date_format(str(item['time'])), axis=1)\n",
    "print(compare_data[compare_data['datetime'] == '2017-01-03 09:30:00.400000000'])\n",
    "print(compare_data[compare_data['datetime'] == '2017-01-03 09:29:00.400000000'])\n",
    "print(compare_data[compare_data['datetime'] == '2017-01-03 09:30:01.400000000'])\n",
    "print(target_data[target_data['datetime'] == '2017-01-03 09:30:00.400000000'])"
   ]
  },
  {
   "cell_type": "code",
   "execution_count": 17,
   "id": "11718f73",
   "metadata": {},
   "outputs": [
    {
     "data": {
      "application/vnd.jupyter.widget-view+json": {
       "model_id": "ed939415ce564409a88139844eda7ef6",
       "version_major": 2,
       "version_minor": 0
      },
      "text/plain": [
       "Text(value='')"
      ]
     },
     "metadata": {},
     "output_type": "display_data"
    },
    {
     "data": {
      "application/vnd.jupyter.widget-view+json": {
       "model_id": "90011809e1054ec38fbefc1f64380931",
       "version_major": 2,
       "version_minor": 0
      },
      "text/plain": [
       "Text(value='')"
      ]
     },
     "metadata": {},
     "output_type": "display_data"
    },
    {
     "data": {
      "application/vnd.jupyter.widget-view+json": {
       "model_id": "63871993b1d242c68f74a1f76920f3f7",
       "version_major": 2,
       "version_minor": 0
      },
      "text/plain": [
       "Text(value='')"
      ]
     },
     "metadata": {},
     "output_type": "display_data"
    },
    {
     "data": {
      "application/vnd.jupyter.widget-view+json": {
       "model_id": "5ac546a279a04979ba7812a8e68efb22",
       "version_major": 2,
       "version_minor": 0
      },
      "text/plain": [
       "Button(description='Query', style=ButtonStyle())"
      ]
     },
     "metadata": {},
     "output_type": "display_data"
    },
    {
     "name": "stdout",
     "output_type": "stream",
     "text": [
      "                             datetime  CFFEX.IC2002.last_price  \\\n",
      "450254  2020-01-23 14:59:59.300000000                   5345.8   \n",
      "450255  2020-01-23 14:59:59.800000000                   5345.8   \n",
      "450256  2020-01-23 14:59:59.800001000                   5346.4   \n",
      "450257  2020-01-23 14:59:59.999500000                   5346.4   \n",
      "450258  2020-01-23 14:59:59.999501000                   5346.4   \n",
      "450259  2020-01-23 14:59:59.999502000                   5346.4   \n",
      "\n",
      "        CFFEX.IC2002.ask_price1  CFFEX.IC2002.bid_price1  \\\n",
      "450254                   5346.6                   5346.4   \n",
      "450255                   5348.8                   5346.4   \n",
      "450256                   5348.8                   5346.4   \n",
      "450257                   5348.8                   5346.4   \n",
      "450258                   5348.8                   5346.4   \n",
      "450259                   5348.8                   5346.4   \n",
      "\n",
      "        CFFEX.IC2002.ask_volume1  CFFEX.IC2002.bid_volume1  \\\n",
      "450254                         2                         3   \n",
      "450255                         1                         3   \n",
      "450256                         1                         2   \n",
      "450257                         1                         2   \n",
      "450258                         1                         2   \n",
      "450259                         1                         2   \n",
      "\n",
      "        CFFEX.IC2002.volume  \n",
      "450254                91118  \n",
      "450255                91118  \n",
      "450256                91119  \n",
      "450257                91119  \n",
      "450258                91119  \n",
      "450259                91119  \n",
      "                             datetime  current    a1_p    b1_p  a1_v  b1_v  \\\n",
      "102335  2020-01-23 14:59:59.300000000   5345.8  5346.6  5346.4   2.0   3.0   \n",
      "102336  2020-01-23 15:00:00.300000000   5346.4  5348.8  5346.4   1.0   2.0   \n",
      "\n",
      "         volume  \n",
      "102335  91118.0  \n",
      "102336  91119.0  \n"
     ]
    }
   ],
   "source": [
    "#查看有问题的比较结果\n",
    "import ipywidgets as widgets\n",
    "import pandas as pd\n",
    "from IPython.display import display\n",
    "\n",
    "instrumnt_text = widgets.Text()\n",
    "display(instrumnt_text)\n",
    "start_date_text = widgets.Text()\n",
    "display(start_date_text)\n",
    "end_date_text = widgets.Text()\n",
    "display(end_date_text)\n",
    "submit_button = widgets.Button(description=\"Query\")\n",
    "display(submit_button)\n",
    "\n",
    "    \n",
    "def query(sender):\n",
    "    instrument = instrumnt_text.value\n",
    "    start_date = start_date_text.value \n",
    "    end_date = end_date_text.value \n",
    "    target_data = pd.read_csv('/Users/finley/Projects/stock-index-future/data/original/future/tick/' + instrument[0:2] + '/CFFEX.' + instrument + '.csv')\n",
    "    compare_data = pd.DataFrame(pd.read_pickle('/Users/finley/Projects/stock-index-future/data/original/future/tick/' + instrument + '.CCFX-ticks.pkl'))\n",
    "    # print(len(target_data))\n",
    "    # print(len(compare_data))\n",
    "    # target_data['date'] = target_data['datetime'].apply(lambda item: item[0:10])\n",
    "    # target_date_list = sorted(list(set(target_data['date'].tolist())))\n",
    "    # print(target_date_list)\n",
    "\n",
    "    compare_data['datetime'] = compare_data['time'].apply(lambda item: date_format(str(item)))\n",
    "    # compare_data['date'] = compare_data['datetime'].apply(lambda item: item[0:10])\n",
    "    # compare_date_list = sorted(list(set(compare_data['date'].tolist())))\n",
    "    # print(compare_date_list)\n",
    "\n",
    "    # print(target_data.groupby('date').count())\n",
    "    # print(compare_data.groupby('date').count())\n",
    "\n",
    "    # target_data['hour'] = target_data['datetime'].apply(lambda item: item[0:13])\n",
    "    # compare_data['hour'] = compare_data['datetime'].apply(lambda item: item[0:13])\n",
    "    # target_hour_list = sorted(list(set(target_data[target_data['date']=='2017-01-03']['hour'].tolist())))\n",
    "    # compare_hour_list = sorted(list(set(compare_data[compare_data['date']=='2017-01-03']['hour'].tolist())))\n",
    "    # print(target_hour_list)\n",
    "    # print(compare_hour_list)\n",
    "    # print(target_data[target_data['date']=='2017-01-03'].groupby('hour').count())\n",
    "    # print(compare_data[compare_data['date']=='2017-01-03'].groupby('hour').count())\n",
    "\n",
    "    # print(target_data[target_data['hour']=='2017-01-03 09']['datetime'].tolist())\n",
    "    # print('-------')\n",
    "    # print(compare_data[compare_data['hour']=='2017-01-03 09']['datetime'].tolist())\n",
    "\n",
    "\n",
    "    print(target_data[(target_data['datetime']>=start_date) & (target_data['datetime']<=end_date)][['datetime','CFFEX.'+ instrument + '.last_price','CFFEX.'+ instrument + '.ask_price1','CFFEX.' + instrument + '.bid_price1','CFFEX.' + instrument + '.ask_volume1','CFFEX.' + instrument + '.bid_volume1','CFFEX.' + instrument + '.volume']])\n",
    "    # print('-------')\n",
    "    print(compare_data[(compare_data['datetime']>=start_date) & (compare_data['datetime']<=end_date)][['datetime','current','a1_p','b1_p','a1_v','b1_v','volume']])\n",
    "\n",
    "\n",
    "\n",
    "\n",
    "    \n",
    "submit_button.on_click(query)\n",
    "\n",
    "def date_format(date):\n",
    "    #20170103092900.0 -> 2017-01-03 09:29:00.000000000\n",
    "    return date[0:4] + '-' + date[4:6] + '-' + date[6:8] + ' ' \\\n",
    "           + date[8:10] + ':' + date[10:12] + ':' + date[12:16] + '00000000'\n",
    "    \n"
   ]
  },
  {
   "cell_type": "code",
   "execution_count": 78,
   "id": "91a5de93",
   "metadata": {},
   "outputs": [
    {
     "name": "stdout",
     "output_type": "stream",
     "text": [
      "             代码   交易所代码         自然日            时间   成交价  成交量   成交额  成交笔数  \\\n",
      "0     600220.SH  600220  2017-01-03  08:00:12.000  0.00    0     0     0   \n",
      "1     600220.SH  600220  2017-01-03  09:15:00.000  0.00    0     0     0   \n",
      "2     600220.SH  600220  2017-01-03  09:15:00.000  0.00    0     0     0   \n",
      "3     600220.SH  600220  2017-01-03  09:15:03.000  0.00    0     0     0   \n",
      "4     600220.SH  600220  2017-01-03  09:15:03.000  0.00    0     0     0   \n",
      "...         ...     ...         ...           ...   ...  ...   ...   ...   \n",
      "3486  600220.SH  600220  2017-01-03  14:59:45.000  4.39    0     0  2973   \n",
      "3487  600220.SH  600220  2017-01-03  14:59:48.000  4.39  600  2634  2974   \n",
      "3488  600220.SH  600220  2017-01-03  14:59:57.000  4.39    0     0  2974   \n",
      "3489  600220.SH  600220  2017-01-03  15:00:01.000  4.39    0     0  2974   \n",
      "3490  600220.SH  600220  2017-01-03  15:00:01.000  4.39    0     0  2974   \n",
      "\n",
      "      IOPV  成交标志  ...  申买量10  加权平均叫卖价  加权平均叫买价     叫卖总量     叫买总量  不加权指数  品种总数  \\\n",
      "0        0   NaN  ...      0    0.000    0.000        0        0      0     0   \n",
      "1        0   NaN  ...      0    0.000    0.000        0        0      0     0   \n",
      "2        0   NaN  ...      0    0.000    0.000        0        0      0     0   \n",
      "3        0   NaN  ...      0    0.000    0.000        0        0      0     0   \n",
      "4        0   NaN  ...      0    0.000    0.000        0        0      0     0   \n",
      "...    ...   ...  ...    ...      ...      ...      ...      ...    ...   ...   \n",
      "3486     0   NaN  ...  10900    4.514    4.308  6558569  1887816      0     0   \n",
      "3487     0   NaN  ...  10900    4.514    4.308  6557969  1887816      0     0   \n",
      "3488     0   NaN  ...  10900    4.514    4.308  6557969  1875616      0     0   \n",
      "3489     0   NaN  ...  10900    4.514    4.308  6557969  1875616      0     0   \n",
      "3490     0   NaN  ...  10900    4.514    4.308  6557969  1875616      0     0   \n",
      "\n",
      "      上涨品种数  下跌品种数  持平品种数  \n",
      "0         0      0      0  \n",
      "1         0      0      0  \n",
      "2         0      0      0  \n",
      "3         0      0      0  \n",
      "4         0      0      0  \n",
      "...     ...    ...    ...  \n",
      "3486      0      0      0  \n",
      "3487      0      0      0  \n",
      "3488      0      0      0  \n",
      "3489      0      0      0  \n",
      "3490      0      0      0  \n",
      "\n",
      "[3491 rows x 66 columns]\n",
      "             代码   交易所代码         自然日            时间   成交价  成交量   成交额  成交笔数  \\\n",
      "0     600220.SH  600220  2017-01-03  08:00:12.000  0.00    0     0     0   \n",
      "1     600220.SH  600220  2017-01-03  09:15:00.000  0.00    0     0     0   \n",
      "2     600220.SH  600220  2017-01-03  09:15:00.000  0.00    0     0     0   \n",
      "3     600220.SH  600220  2017-01-03  09:15:03.000  0.00    0     0     0   \n",
      "4     600220.SH  600220  2017-01-03  09:15:03.000  0.00    0     0     0   \n",
      "...         ...     ...         ...           ...   ...  ...   ...   ...   \n",
      "3486  600220.SH  600220  2017-01-03  14:59:45.000  4.39    0     0  2973   \n",
      "3487  600220.SH  600220  2017-01-03  14:59:48.000  4.39  600  2634  2974   \n",
      "3488  600220.SH  600220  2017-01-03  14:59:57.000  4.39    0     0  2974   \n",
      "3489  600220.SH  600220  2017-01-03  15:00:01.000  4.39    0     0  2974   \n",
      "3490  600220.SH  600220  2017-01-03  15:00:01.000  4.39    0     0  2974   \n",
      "\n",
      "      IOPV  成交标志  ...  申买量10  加权平均叫卖价  加权平均叫买价     叫卖总量     叫买总量  不加权指数  品种总数  \\\n",
      "0        0   NaN  ...      0    0.000    0.000        0        0      0     0   \n",
      "1        0   NaN  ...      0    0.000    0.000        0        0      0     0   \n",
      "2        0   NaN  ...      0    0.000    0.000        0        0      0     0   \n",
      "3        0   NaN  ...      0    0.000    0.000        0        0      0     0   \n",
      "4        0   NaN  ...      0    0.000    0.000        0        0      0     0   \n",
      "...    ...   ...  ...    ...      ...      ...      ...      ...    ...   ...   \n",
      "3486     0   NaN  ...  10900    4.514    4.308  6558569  1887816      0     0   \n",
      "3487     0   NaN  ...  10900    4.514    4.308  6557969  1887816      0     0   \n",
      "3488     0   NaN  ...  10900    4.514    4.308  6557969  1875616      0     0   \n",
      "3489     0   NaN  ...  10900    4.514    4.308  6557969  1875616      0     0   \n",
      "3490     0   NaN  ...  10900    4.514    4.308  6557969  1875616      0     0   \n",
      "\n",
      "      上涨品种数  下跌品种数  持平品种数  \n",
      "0         0      0      0  \n",
      "1         0      0      0  \n",
      "2         0      0      0  \n",
      "3         0      0      0  \n",
      "4         0      0      0  \n",
      "...     ...    ...    ...  \n",
      "3486      0      0      0  \n",
      "3487      0      0      0  \n",
      "3488      0      0      0  \n",
      "3489      0      0      0  \n",
      "3490      0      0      0  \n",
      "\n",
      "[3491 rows x 66 columns]\n"
     ]
    }
   ],
   "source": [
    "import pandas as pd\n",
    "import gzip\n",
    "import _pickle as cPickle\n",
    "\n",
    "path = '/Users/finley/Projects/stock-index-future/data/original/stock_daily/stk_tick10_w_2017/stk_tick10_w_201701/20170103/pkl/600220.pkl'\n",
    "with gzip.open(path, 'rb', compresslevel=1) as file_object:\n",
    "    raw_data = file_object.read()\n",
    "print(cPickle.loads(raw_data))\n",
    "\n",
    "stock_data = pd.read_csv('/Users/finley/Projects/stock-index-future/data/original/stock_daily/stk_tick10_w_2017/stk_tick10_w_201701/20170103/sh600220_20170103.csv', encoding = 'gbk')\n",
    "print(stock_data)\n",
    "    \n"
   ]
  },
  {
   "cell_type": "code",
   "execution_count": 13,
   "id": "663421de",
   "metadata": {},
   "outputs": [
    {
     "ename": "FileNotFoundError",
     "evalue": "[Errno 2] No such file or directory: '/Users/finley/Projects/stock-index-future/data/original/future/tick/IC2210.CCFX-ticks.pkl'",
     "output_type": "error",
     "traceback": [
      "\u001b[0;31m---------------------------------------------------------------------------\u001b[0m",
      "\u001b[0;31mFileNotFoundError\u001b[0m                         Traceback (most recent call last)",
      "Input \u001b[0;32mIn [13]\u001b[0m, in \u001b[0;36m<cell line: 5>\u001b[0;34m()\u001b[0m\n\u001b[1;32m      3\u001b[0m instrument \u001b[38;5;241m=\u001b[39m \u001b[38;5;124m'\u001b[39m\u001b[38;5;124mIC2210\u001b[39m\u001b[38;5;124m'\u001b[39m\n\u001b[1;32m      4\u001b[0m target_data \u001b[38;5;241m=\u001b[39m pd\u001b[38;5;241m.\u001b[39mread_csv(\u001b[38;5;124m'\u001b[39m\u001b[38;5;124m/Users/finley/Projects/stock-index-future/data/original/future/tick/\u001b[39m\u001b[38;5;124m'\u001b[39m \u001b[38;5;241m+\u001b[39m instrument[\u001b[38;5;241m0\u001b[39m:\u001b[38;5;241m2\u001b[39m] \u001b[38;5;241m+\u001b[39m \u001b[38;5;124m'\u001b[39m\u001b[38;5;124m/CFFEX.\u001b[39m\u001b[38;5;124m'\u001b[39m \u001b[38;5;241m+\u001b[39m instrument \u001b[38;5;241m+\u001b[39m \u001b[38;5;124m'\u001b[39m\u001b[38;5;124m.csv\u001b[39m\u001b[38;5;124m'\u001b[39m)\n\u001b[0;32m----> 5\u001b[0m compare_data \u001b[38;5;241m=\u001b[39m pd\u001b[38;5;241m.\u001b[39mDataFrame(\u001b[43mpd\u001b[49m\u001b[38;5;241;43m.\u001b[39;49m\u001b[43mread_pickle\u001b[49m\u001b[43m(\u001b[49m\u001b[38;5;124;43m'\u001b[39;49m\u001b[38;5;124;43m/Users/finley/Projects/stock-index-future/data/original/future/tick/\u001b[39;49m\u001b[38;5;124;43m'\u001b[39;49m\u001b[43m \u001b[49m\u001b[38;5;241;43m+\u001b[39;49m\u001b[43m \u001b[49m\u001b[43minstrument\u001b[49m\u001b[43m \u001b[49m\u001b[38;5;241;43m+\u001b[39;49m\u001b[43m \u001b[49m\u001b[38;5;124;43m'\u001b[39;49m\u001b[38;5;124;43m.CCFX-ticks.pkl\u001b[39;49m\u001b[38;5;124;43m'\u001b[39;49m\u001b[43m)\u001b[49m)\n\u001b[1;32m      7\u001b[0m \u001b[38;5;28mprint\u001b[39m(target_data\u001b[38;5;241m.\u001b[39miloc[\u001b[38;5;241m-\u001b[39m\u001b[38;5;241m1\u001b[39m]\u001b[38;5;241m.\u001b[39mtolist())\n\u001b[1;32m      8\u001b[0m \u001b[38;5;28mprint\u001b[39m(compare_data\u001b[38;5;241m.\u001b[39miloc[\u001b[38;5;241m-\u001b[39m\u001b[38;5;241m1\u001b[39m]\u001b[38;5;241m.\u001b[39mtolist())\n",
      "File \u001b[0;32m~/opt/anaconda3/lib/python3.9/site-packages/pandas/io/pickle.py:187\u001b[0m, in \u001b[0;36mread_pickle\u001b[0;34m(filepath_or_buffer, compression, storage_options)\u001b[0m\n\u001b[1;32m    124\u001b[0m \u001b[38;5;124;03m\"\"\"\u001b[39;00m\n\u001b[1;32m    125\u001b[0m \u001b[38;5;124;03mLoad pickled pandas object (or any object) from file.\u001b[39;00m\n\u001b[1;32m    126\u001b[0m \n\u001b[0;32m   (...)\u001b[0m\n\u001b[1;32m    184\u001b[0m \u001b[38;5;124;03m4    4    9\u001b[39;00m\n\u001b[1;32m    185\u001b[0m \u001b[38;5;124;03m\"\"\"\u001b[39;00m  \u001b[38;5;66;03m# noqa: E501\u001b[39;00m\n\u001b[1;32m    186\u001b[0m excs_to_catch \u001b[38;5;241m=\u001b[39m (\u001b[38;5;167;01mAttributeError\u001b[39;00m, \u001b[38;5;167;01mImportError\u001b[39;00m, \u001b[38;5;167;01mModuleNotFoundError\u001b[39;00m, \u001b[38;5;167;01mTypeError\u001b[39;00m)\n\u001b[0;32m--> 187\u001b[0m \u001b[38;5;28;01mwith\u001b[39;00m \u001b[43mget_handle\u001b[49m\u001b[43m(\u001b[49m\n\u001b[1;32m    188\u001b[0m \u001b[43m    \u001b[49m\u001b[43mfilepath_or_buffer\u001b[49m\u001b[43m,\u001b[49m\n\u001b[1;32m    189\u001b[0m \u001b[43m    \u001b[49m\u001b[38;5;124;43m\"\u001b[39;49m\u001b[38;5;124;43mrb\u001b[39;49m\u001b[38;5;124;43m\"\u001b[39;49m\u001b[43m,\u001b[49m\n\u001b[1;32m    190\u001b[0m \u001b[43m    \u001b[49m\u001b[43mcompression\u001b[49m\u001b[38;5;241;43m=\u001b[39;49m\u001b[43mcompression\u001b[49m\u001b[43m,\u001b[49m\n\u001b[1;32m    191\u001b[0m \u001b[43m    \u001b[49m\u001b[43mis_text\u001b[49m\u001b[38;5;241;43m=\u001b[39;49m\u001b[38;5;28;43;01mFalse\u001b[39;49;00m\u001b[43m,\u001b[49m\n\u001b[1;32m    192\u001b[0m \u001b[43m    \u001b[49m\u001b[43mstorage_options\u001b[49m\u001b[38;5;241;43m=\u001b[39;49m\u001b[43mstorage_options\u001b[49m\u001b[43m,\u001b[49m\n\u001b[1;32m    193\u001b[0m \u001b[43m\u001b[49m\u001b[43m)\u001b[49m \u001b[38;5;28;01mas\u001b[39;00m handles:\n\u001b[1;32m    194\u001b[0m \n\u001b[1;32m    195\u001b[0m     \u001b[38;5;66;03m# 1) try standard library Pickle\u001b[39;00m\n\u001b[1;32m    196\u001b[0m     \u001b[38;5;66;03m# 2) try pickle_compat (older pandas version) to handle subclass changes\u001b[39;00m\n\u001b[1;32m    197\u001b[0m     \u001b[38;5;66;03m# 3) try pickle_compat with latin-1 encoding upon a UnicodeDecodeError\u001b[39;00m\n\u001b[1;32m    199\u001b[0m     \u001b[38;5;28;01mtry\u001b[39;00m:\n\u001b[1;32m    200\u001b[0m         \u001b[38;5;66;03m# TypeError for Cython complaints about object.__new__ vs Tick.__new__\u001b[39;00m\n\u001b[1;32m    201\u001b[0m         \u001b[38;5;28;01mtry\u001b[39;00m:\n",
      "File \u001b[0;32m~/opt/anaconda3/lib/python3.9/site-packages/pandas/io/common.py:798\u001b[0m, in \u001b[0;36mget_handle\u001b[0;34m(path_or_buf, mode, encoding, compression, memory_map, is_text, errors, storage_options)\u001b[0m\n\u001b[1;32m    789\u001b[0m         handle \u001b[38;5;241m=\u001b[39m \u001b[38;5;28mopen\u001b[39m(\n\u001b[1;32m    790\u001b[0m             handle,\n\u001b[1;32m    791\u001b[0m             ioargs\u001b[38;5;241m.\u001b[39mmode,\n\u001b[0;32m   (...)\u001b[0m\n\u001b[1;32m    794\u001b[0m             newline\u001b[38;5;241m=\u001b[39m\u001b[38;5;124m\"\u001b[39m\u001b[38;5;124m\"\u001b[39m,\n\u001b[1;32m    795\u001b[0m         )\n\u001b[1;32m    796\u001b[0m     \u001b[38;5;28;01melse\u001b[39;00m:\n\u001b[1;32m    797\u001b[0m         \u001b[38;5;66;03m# Binary mode\u001b[39;00m\n\u001b[0;32m--> 798\u001b[0m         handle \u001b[38;5;241m=\u001b[39m \u001b[38;5;28;43mopen\u001b[39;49m\u001b[43m(\u001b[49m\u001b[43mhandle\u001b[49m\u001b[43m,\u001b[49m\u001b[43m \u001b[49m\u001b[43mioargs\u001b[49m\u001b[38;5;241;43m.\u001b[39;49m\u001b[43mmode\u001b[49m\u001b[43m)\u001b[49m\n\u001b[1;32m    799\u001b[0m     handles\u001b[38;5;241m.\u001b[39mappend(handle)\n\u001b[1;32m    801\u001b[0m \u001b[38;5;66;03m# Convert BytesIO or file objects passed with an encoding\u001b[39;00m\n",
      "\u001b[0;31mFileNotFoundError\u001b[0m: [Errno 2] No such file or directory: '/Users/finley/Projects/stock-index-future/data/original/future/tick/IC2210.CCFX-ticks.pkl'"
     ]
    }
   ],
   "source": [
    "import pandas as pd\n",
    "\n",
    "instrument = 'IC2210'\n",
    "target_data = pd.read_csv('/Users/finley/Projects/stock-index-future/data/original/future/tick/' + instrument[0:2] + '/CFFEX.' + instrument + '.csv')\n",
    "compare_data = pd.DataFrame(pd.read_pickle('/Users/finley/Projects/stock-index-future/data/original/future/tick/' + instrument + '.CCFX-ticks.pkl'))\n",
    "\n",
    "print(target_data.iloc[-1].tolist())\n",
    "print(compare_data.iloc[-1].tolist())"
   ]
  },
  {
   "cell_type": "code",
   "execution_count": null,
   "id": "9e0db92c",
   "metadata": {},
   "outputs": [],
   "source": []
  }
 ],
 "metadata": {
  "kernelspec": {
   "display_name": "Python 3 (ipykernel)",
   "language": "python",
   "name": "python3"
  },
  "language_info": {
   "codemirror_mode": {
    "name": "ipython",
    "version": 3
   },
   "file_extension": ".py",
   "mimetype": "text/x-python",
   "name": "python",
   "nbconvert_exporter": "python",
   "pygments_lexer": "ipython3",
   "version": "3.9.12"
  }
 },
 "nbformat": 4,
 "nbformat_minor": 5
}
