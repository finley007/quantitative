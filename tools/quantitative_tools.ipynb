{
 "cells": [
  {
   "cell_type": "code",
   "execution_count": 8,
   "id": "225e345c",
   "metadata": {},
   "outputs": [
    {
     "data": {
      "application/vnd.jupyter.widget-view+json": {
       "model_id": "9a8d9d7b7cb548a1849c943b55b3bbac",
       "version_major": 2,
       "version_minor": 0
      },
      "text/plain": [
       "Text(value='')"
      ]
     },
     "metadata": {},
     "output_type": "display_data"
    }
   ],
   "source": [
    "import ipywidgets as widgets\n",
    "from IPython.display import display\n",
    "import pandas as pd\n",
    "import gzip\n",
    "import _pickle as cPickle\n",
    "text = widgets.Text()\n",
    "display(text)\n",
    "\n",
    "def read_decompress(sender):\n",
    "    with gzip.open(sender.value, 'rb', compresslevel=1) as file_object:\n",
    "        raw_data = file_object.read()\n",
    "    print(cPickle.loads(raw_data))\n",
    "    \n",
    "def read(sender):\n",
    "    print(dict_slice(pd.read_pickle(sender.value),1,100))\n",
    "    \n",
    "def dict_slice(adict, start, end):\n",
    "    keys = adict.keys()\n",
    "    dict_slice = {}\n",
    "    for k in list(keys)[start:end]:\n",
    "        dict_slice[k] = adict[k]\n",
    "    return dict_slice\n",
    "\n",
    "text.on_submit(read)"
   ]
  },
  {
   "cell_type": "code",
   "execution_count": 11,
   "id": "34c21875",
   "metadata": {},
   "outputs": [
    {
     "name": "stdout",
     "output_type": "stream",
     "text": [
      "MD5 \t:\t 13ee9e8b41f69f9430098ee5406c29ab\n",
      "SHA1 \t:\t 41e44b2d46db7c551e74edc46c46b8305494e907\n",
      "SHA224 \t:\t 4601270ed8464726b5c0982d33aa77ab484f3c911cb0ae364dec6ff0\n",
      "SHA256 \t:\t a822da9e0c714b50db8e60e3a40390ab4a71ba58de428a53f02115b139b80ada\n",
      "SHA384 \t:\t 6ca994ab9d36c902068e04b546cd257215ec596161ba086c3db45329982192448dd78f7bb5f883fdaba529811fe0fa34\n",
      "SHA512 \t:\t 85467afeabbe8d777da4283d873afe607f1f984bce862eeefd2c10adc0974b73ce78f3679d82a02858f11008830edd2b4bc8a5de765da47ff1e84afa0dbd78f4\n"
     ]
    }
   ],
   "source": [
    "import hashlib\n",
    "src = 'raw_input(\"Input String : \")'\n",
    "funcNameList = [\"MD5\",\"SHA1\",\"SHA224\",\"SHA256\",\"SHA384\",\"SHA512\"]\n",
    "funcMap = {\n",
    "\"MD5\" : lambda cnt : hashlib.md5(cnt.encode('utf-8')).hexdigest(),\n",
    "\"SHA1\" : lambda cnt : hashlib.sha1(cnt.encode('utf-8')).hexdigest(),\n",
    "\"SHA224\" : lambda cnt : hashlib.sha224(cnt.encode('utf-8')).hexdigest(),\n",
    "\"SHA256\" : lambda cnt : hashlib.sha256(cnt.encode('utf-8')).hexdigest(),\n",
    "\"SHA384\" : lambda cnt : hashlib.sha384(cnt.encode('utf-8')).hexdigest(),\n",
    "\"SHA512\" : lambda cnt : hashlib.sha512(cnt.encode('utf-8')).hexdigest()\n",
    "}\n",
    "for funcName in funcNameList :\n",
    "    print(funcName,\"\\t:\\t\",funcMap[funcName](src))"
   ]
  },
  {
   "cell_type": "code",
   "execution_count": null,
   "id": "0ce73fe2",
   "metadata": {},
   "outputs": [],
   "source": []
  },
  {
   "cell_type": "code",
   "execution_count": null,
   "id": "6187298f",
   "metadata": {},
   "outputs": [],
   "source": []
  }
 ],
 "metadata": {
  "kernelspec": {
   "display_name": "Python 3 (ipykernel)",
   "language": "python",
   "name": "python3"
  },
  "language_info": {
   "codemirror_mode": {
    "name": "ipython",
    "version": 3
   },
   "file_extension": ".py",
   "mimetype": "text/x-python",
   "name": "python",
   "nbconvert_exporter": "python",
   "pygments_lexer": "ipython3",
   "version": "3.9.12"
  }
 },
 "nbformat": 4,
 "nbformat_minor": 5
}
