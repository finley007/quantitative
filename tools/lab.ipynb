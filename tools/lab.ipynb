{
 "cells": [
  {
   "cell_type": "code",
   "execution_count": 24,
   "id": "552b8b3a",
   "metadata": {},
   "outputs": [
    {
     "name": "stdout",
     "output_type": "stream",
     "text": [
      "  str  int letter\n",
      "0   a    1    one\n",
      "1   b    2    two\n",
      "2   c    3  three\n",
      "3   c    4   four\n",
      "  str letter\n",
      "0   a    one\n",
      "['one', 'a']\n",
      "<class 'pandas.core.frame.DataFrame'>\n",
      "0\n",
      "aa\n",
      "3.4\n"
     ]
    }
   ],
   "source": [
    "import pandas as pd\n",
    "\n",
    "dict = {'str':['a','b','c','c'],'int':[1,2,3,4],'letter':['one','two','three','four']}\n",
    "data = pd.DataFrame(dict)\n",
    "\n",
    "print(data)\n",
    "\n",
    "data['concat'] = data.apply(lambda item: item['str'] + str(item['int']), axis=1)\n",
    "\n",
    "print(data[data['str']=='a'][['str','letter']])\n",
    "print(data[data['str']=='a'][['letter','str']].iloc[0].tolist())\n",
    "print(type(data[data['str']=='a'][['str','letter']]))\n",
    "\n",
    "def test(num = 0):\n",
    "    if isinstance(num, float):\n",
    "        return str(round(num, 2))\n",
    "    else:\n",
    "        return num\n",
    "    \n",
    "print(test())\n",
    "print(test('aa'))\n",
    "print(test(3.4))\n"
   ]
  },
  {
   "cell_type": "code",
   "execution_count": 28,
   "id": "8a96bb73",
   "metadata": {},
   "outputs": [
    {
     "name": "stdout",
     "output_type": "stream",
     "text": [
      "500000000\n",
      "2017-01-19 14:59:34.500000000\n",
      "IC2212\n"
     ]
    }
   ],
   "source": [
    "datetime = '2017-01-19 14:59:34.500000000'\n",
    "print(datetime[20:])\n",
    "if (datetime[20:] == '000000000'):\n",
    "    datetime = datetime[0:20] + '500000000'\n",
    "print(datetime)\n",
    "\n",
    "file = 'CFFEX.IC2212.csv'\n",
    "print(file.split('.')[1])\n",
    "\n",
    "\n"
   ]
  },
  {
   "cell_type": "code",
   "execution_count": null,
   "id": "e221b07c",
   "metadata": {},
   "outputs": [],
   "source": []
  },
  {
   "cell_type": "code",
   "execution_count": null,
   "id": "4da3958e",
   "metadata": {},
   "outputs": [],
   "source": []
  }
 ],
 "metadata": {
  "kernelspec": {
   "display_name": "Python 3 (ipykernel)",
   "language": "python",
   "name": "python3"
  },
  "language_info": {
   "codemirror_mode": {
    "name": "ipython",
    "version": 3
   },
   "file_extension": ".py",
   "mimetype": "text/x-python",
   "name": "python",
   "nbconvert_exporter": "python",
   "pygments_lexer": "ipython3",
   "version": "3.9.12"
  }
 },
 "nbformat": 4,
 "nbformat_minor": 5
}
