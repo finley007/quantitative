{
 "cells": [
  {
   "cell_type": "code",
   "execution_count": 6,
   "id": "6a1bb674",
   "metadata": {},
   "outputs": [],
   "source": [
    "from PIL import Image\n",
    "\n",
    "# 获取原始图像\n",
    "img = Image.open('/Users/finley/Projects/Stock/data/image/test.jpg')\n",
    "img.show()\n",
    "\n",
    "# 清洗：去除多余的线\n",
    "\n",
    "# 归一化尺寸\n",
    "\n",
    "# 二值化\n",
    "img = img.convert('RGBA')\n",
    "pixdata = img.load()\n",
    "threshold = 150\n",
    "#红色 238,73,51\n",
    "#绿色 71,151,54\n",
    "for y in range(img.size[1]):\n",
    "  for x in range(img.size[0]):\n",
    "    red_d = abs(pixdata[x,y][0] - 238) + abs(pixdata[x,y][1] - 73) + abs(pixdata[x,y][2] - 51)\n",
    "    green_d = abs(pixdata[x,y][0] - 71) + abs(pixdata[x,y][1] - 151) + abs(pixdata[x,y][2] - 54)\n",
    "    if red_d < threshold:\n",
    "      pixdata[x, y] = (255, 255, 255)\n",
    "    elif green_d < threshold:\n",
    "      pixdata[x, y] = (0, 0, 0)\n",
    "    else:\n",
    "      pixdata[x, y] = (255, 255, 255, 0)  \n",
    "img.show()"
   ]
  },
  {
   "cell_type": "code",
   "execution_count": 82,
   "id": "5a2458c0",
   "metadata": {},
   "outputs": [
    {
     "data": {
      "text/plain": [
       "[<matplotlib.lines.Line2D at 0x7fe3c5633640>]"
      ]
     },
     "execution_count": 82,
     "metadata": {},
     "output_type": "execute_result"
    },
    {
     "data": {
      "image/png": "[encoded data removed]",
      "text/plain": [
       "<Figure size 432x288 with 1 Axes>"
      ]
     },
     "metadata": {
      "needs_background": "light"
     },
     "output_type": "display_data"
    }
   ],
   "source": [
    "#测试逆函数和画图\n",
    "import matplotlib.pyplot as plt\n",
    "import numpy as np\n",
    "import math \n",
    "from pynverse import inversefunc\n",
    "\n",
    "exp = (lambda x: math.exp(x))\n",
    "# log = (lambda x: math.log(x))\n",
    "log = inversefunc(exp)\n",
    "x=np.arange(-5,5,0.01)\n",
    "y=[]\n",
    "for value in x:\n",
    "    y.append(exp(value))\n",
    "plt.plot(x,y)\n",
    "\n",
    "# x=np.arange(0.01,5,0.01)\n",
    "# y=[]\n",
    "# for value in x:\n",
    "#     y.append(log(value))\n",
    "# plt.plot(x,y)\n",
    "\n"
   ]
  },
  {
   "cell_type": "code",
   "execution_count": 79,
   "id": "c74d40fd",
   "metadata": {},
   "outputs": [
    {
     "name": "stderr",
     "output_type": "stream",
     "text": [
      "/Users/finley/opt/anaconda3/lib/python3.9/site-packages/pynverse/inverse.py:187: RuntimeWarning: Trouble calculating inverse for values: [0.]\n",
      "  warnings.warn(\"Trouble calculating inverse for values: \"\n",
      "/Users/finley/opt/anaconda3/lib/python3.9/site-packages/pynverse/inverse.py:194: RuntimeWarning: Results obtained with less than 2 decimal digits of accuracy\n",
      "  warnings.warn(\"Results obtained with less than %g \"\n"
     ]
    },
    {
     "data": {
      "text/plain": [
       "[<matplotlib.lines.Line2D at 0x7fe3c5542a90>]"
      ]
     },
     "execution_count": 79,
     "metadata": {},
     "output_type": "execute_result"
    },
    {
     "data": {
      "image/png": "[encoded data removed]",
      "text/plain": [
       "<Figure size 432x288 with 1 Axes>"
      ]
     },
     "metadata": {
      "needs_background": "light"
     },
     "output_type": "display_data"
    }
   ],
   "source": [
    "实现sb函数\n",
    "import matplotlib.pyplot as plt\n",
    "import numpy as np\n",
    "import math \n",
    "from pynverse import inversefunc\n",
    "\n",
    "alpha = 6\n",
    "sb = (lambda x: 1/(1+math.exp(-2*alpha*x+alpha)))\n",
    "sb_inverse = inversefunc(sb)\n",
    "x=np.arange(0,1,0.01)\n",
    "# y=[]\n",
    "# for value in x:\n",
    "#     y.append(sb(value))\n",
    "# plt.plot(x,y)\n",
    "# x=np.arange(0,1,0.01)\n",
    "y=[]\n",
    "for value in x:\n",
    "    y.append(sb_inverse(value))\n",
    "plt.plot(x,y)\n"
   ]
  },
  {
   "cell_type": "code",
   "execution_count": 5,
   "id": "b13b2b24",
   "metadata": {},
   "outputs": [
    {
     "name": "stdout",
     "output_type": "stream",
     "text": [
      "图像尺寸:(1542, 764)\n",
      "图像宽度:1542\n",
      "图像高度:764\n",
      "初始化模板矩阵耗时:1.906135082244873\n",
      "计算dp矩阵耗时:33.29990220069885\n",
      "最大dp值:33.24154027718932\n",
      "最小dp值:1.0\n",
      "计算归一化矩阵耗时:0.2749450206756592\n"
     ]
    }
   ],
   "source": [
    "#实现d函数\n",
    "\"\"\"\n",
    "创建和img相同尺寸的二维矩阵，k线部分标记1，背景部分标记0\n",
    "mask = [[0 for i in range(3)] for j in range(3)]\n",
    "遍历每一个节点，背景部分跳过，k线部分创建一个mask，判断mask里是否有背景部分像素\n",
    "有：计算距离，没有：扩大mask半径\n",
    "\"\"\"\n",
    "import time\n",
    "import math \n",
    "from PIL import Image\n",
    "\n",
    "threshold = 150\n",
    "img = Image.open('/Users/finley/Projects/Stock/data/image/test.jpg')\n",
    "img = img.convert('RGBA')\n",
    "pixdata = img.load()\n",
    "mask = [[0 for i in range(img.size[0])] for j in range(img.size[1])]\n",
    "dp = [[0 for i in range(img.size[0])] for j in range(img.size[1])]\n",
    "p = [[0 for i in range(img.size[0])] for j in range(img.size[1])]\n",
    "print('图像尺寸:' + str(img.size))\n",
    "print('图像宽度:' + str(img.size[0]))\n",
    "print('图像高度:' + str(img.size[1]))\n",
    "\n",
    "#初始化mask矩阵\n",
    "start = time.time()\n",
    "for y in range(img.size[1]):\n",
    "  for x in range(img.size[0]):\n",
    "    red_d = abs(pixdata[x,y][0] - 238) + abs(pixdata[x,y][1] - 73) + abs(pixdata[x,y][2] - 51)\n",
    "    green_d = abs(pixdata[x,y][0] - 71) + abs(pixdata[x,y][1] - 151) + abs(pixdata[x,y][2] - 54)\n",
    "    if red_d < threshold or green_d < threshold:\n",
    "      mask[y][x] = 1\n",
    "    else:\n",
    "      mask[y][x] = 0\n",
    "end = time.time()\n",
    "print('初始化模板矩阵耗时:' + str(end - start))\n",
    "\n",
    "#计算dp矩阵\n",
    "start = time.time()\n",
    "for y in range(len(mask)):\n",
    "  for x in range(len(mask[0])):\n",
    "    if(mask[y][x] == 0):\n",
    "        dp[y][x] = 0\n",
    "    else:\n",
    "        r = 1\n",
    "        dis = 0\n",
    "        while(dis == 0):\n",
    "            for j in range(y - r, y + r):\n",
    "                for i in range(x - r, x + r):\n",
    "                    if (mask[j][i] == 0):\n",
    "#                         d = pow(math.dist([x,y],[i,j]),2) #这里为什么要开方？\n",
    "                        d = math.dist([x,y],[i,j])\n",
    "                        if (dis == 0 or (dis != 0 and dis > d)):\n",
    "                            dis = d\n",
    "            r = r + 1\n",
    "        dp[y][x] = dis   \n",
    "end = time.time()\n",
    "print('计算dp矩阵耗时:' + str(end - start))\n",
    "\n",
    "#dp矩阵归一化\n",
    "start = time.time()\n",
    "max_dp=0\n",
    "min_dp=10000000\n",
    "for y in range(len(dp)):\n",
    "  for x in range(len(dp[0])):\n",
    "    if (dp[y][x] > 0):\n",
    "        if (dp[y][x] > max_dp):\n",
    "            max_dp = dp[y][x]\n",
    "        if (dp[y][x] < min_dp):\n",
    "            min_dp = dp[y][x]\n",
    "print('最大dp值:' + str(max_dp))\n",
    "print('最小dp值:' + str(min_dp))\n",
    "for y in range(len(p)):\n",
    "  for x in range(len(p[0])):\n",
    "    if (dp[y][x] > 0):\n",
    "        p[y][x] = (dp[y][x] - min_dp)/(max_dp - min_dp)\n",
    "end = time.time()\n",
    "print('计算归一化矩阵耗时:' + str(end - start))\n",
    "\n",
    "\n",
    "\n"
   ]
  },
  {
   "cell_type": "code",
   "execution_count": null,
   "id": "fb767061",
   "metadata": {},
   "outputs": [],
   "source": [
    "#生成cb并保存\n",
    "\n",
    "\n"
   ]
  }
 ],
 "metadata": {
  "kernelspec": {
   "display_name": "Python 3 (ipykernel)",
   "language": "python",
   "name": "python3"
  },
  "language_info": {
   "codemirror_mode": {
    "name": "ipython",
    "version": 3
   },
   "file_extension": ".py",
   "mimetype": "text/x-python",
   "name": "python",
   "nbconvert_exporter": "python",
   "pygments_lexer": "ipython3",
   "version": "3.9.12"
  }
 },
 "nbformat": 4,
 "nbformat_minor": 5
}
